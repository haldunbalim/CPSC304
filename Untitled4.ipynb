{
 "cells": [
  {
   "cell_type": "code",
   "execution_count": 33,
   "metadata": {},
   "outputs": [],
   "source": [
    "from faker import Faker\n",
    "import random\n",
    "import numpy as np"
   ]
  },
  {
   "cell_type": "code",
   "execution_count": 54,
   "metadata": {},
   "outputs": [],
   "source": [
    "faker = Faker()"
   ]
  },
  {
   "cell_type": "code",
   "execution_count": 83,
   "metadata": {},
   "outputs": [],
   "source": [
    "class User():\n",
    "    def __init__(self):\n",
    "        self.dct ={\n",
    "            \"uid\": \"integer10\",\n",
    "            \"name\":\"name\",\n",
    "            \"surname\":\"surname\",\n",
    "            \"phoneNo\":\"phoneNo\",\n",
    "            \"password\":\"text\"\n",
    "        }\n",
    "        \n",
    "    def construct(self, dct):\n",
    "        self.uid = dct[\"uid\"]\n",
    "        self.name = dct[\"name\"]\n",
    "        self.surname = dct[\"surname\"]\n",
    "        self.phoneNo = dct[\"phoneNo\"]\n",
    "        self.password = dct[\"password\"]\n",
    "        self.username = dct[\"name\"] + dct[\"surname\"]\n",
    "        \n",
    "    def __repr__(self):\n",
    "        return \"({},{},{},{},{},{})\".format(self.uid,\n",
    "        self.name,\n",
    "        self.surname,\n",
    "        self.phoneNo,\n",
    "        self.password,\n",
    "        self.username)"
   ]
  },
  {
   "cell_type": "code",
   "execution_count": 84,
   "metadata": {},
   "outputs": [],
   "source": [
    "def generator(obj):\n",
    "    dct = {}\n",
    "    for k,v in obj.dct.items():\n",
    "        if \"integer\" in v:\n",
    "            base = int(v[len(\"integer\"):])\n",
    "            dct[k] = np.random.randint(10**base,10**(base+1))\n",
    "        if \"name\" == v:\n",
    "            dct[k] = faker.first_name()\n",
    "        if \"surname\" == v:\n",
    "            dct[k] = faker.last_name()\n",
    "        if \"phoneNo\" == v:\n",
    "            dct[k] = faker.phone_number()\n",
    "        if \"text\" == v:\n",
    "            dct[k] = faker.text(8)\n",
    "    obj.construct(dct)\n",
    "    return obj"
   ]
  },
  {
   "cell_type": "code",
   "execution_count": 85,
   "metadata": {},
   "outputs": [
    {
     "data": {
      "text/plain": [
       "(40640537407,Paul,Peterson,(640)330-1086x5316,Argue.,PaulPeterson)"
      ]
     },
     "execution_count": 85,
     "metadata": {},
     "output_type": "execute_result"
    }
   ],
   "source": [
    "generator(User())"
   ]
  },
  {
   "cell_type": "code",
   "execution_count": null,
   "metadata": {},
   "outputs": [],
   "source": []
  }
 ],
 "metadata": {
  "kernelspec": {
   "display_name": "Python 3",
   "language": "python",
   "name": "python3"
  },
  "language_info": {
   "codemirror_mode": {
    "name": "ipython",
    "version": 3
   },
   "file_extension": ".py",
   "mimetype": "text/x-python",
   "name": "python",
   "nbconvert_exporter": "python",
   "pygments_lexer": "ipython3",
   "version": "3.7.4"
  }
 },
 "nbformat": 4,
 "nbformat_minor": 2
}
